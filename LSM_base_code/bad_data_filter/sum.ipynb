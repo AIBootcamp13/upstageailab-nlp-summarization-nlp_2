{
 "cells": [
  {
   "cell_type": "code",
   "execution_count": 264,
   "id": "c12361e7",
   "metadata": {},
   "outputs": [],
   "source": [
    "import pandas as pd\n",
    "import json\n",
    "from ast import literal_eval"
   ]
  },
  {
   "cell_type": "code",
   "execution_count": 283,
   "id": "d1f0a2b6",
   "metadata": {},
   "outputs": [],
   "source": [
    "org = pd.read_csv('../../data/train.csv')"
   ]
  },
  {
   "cell_type": "code",
   "execution_count": 265,
   "id": "65f11ddd",
   "metadata": {},
   "outputs": [],
   "source": [
    "def cut(text):\n",
    "    st = text.find('\"')+1\n",
    "    text = text[st:]\n",
    "    ed = text.find('\"')\n",
    "    text = text[:ed]\n",
    "    return text"
   ]
  },
  {
   "cell_type": "code",
   "execution_count": 266,
   "id": "79e6f1e2",
   "metadata": {},
   "outputs": [],
   "source": [
    "data_list = []\n",
    "for i in range(4):\n",
    "    data_list.append(pd.read_csv(f'data_filter_{i}.csv'))\n",
    "df = pd.concat(data_list)"
   ]
  },
  {
   "cell_type": "code",
   "execution_count": 267,
   "id": "17ea47b3",
   "metadata": {},
   "outputs": [],
   "source": [
    "df['fname_list'] = df['fname_list'].apply(literal_eval)"
   ]
  },
  {
   "cell_type": "code",
   "execution_count": 268,
   "id": "96cd1bb8",
   "metadata": {},
   "outputs": [],
   "source": [
    "df = df[~df['output'].isna()]"
   ]
  },
  {
   "cell_type": "code",
   "execution_count": 269,
   "id": "c2d9b930",
   "metadata": {},
   "outputs": [
    {
     "name": "stdout",
     "output_type": "stream",
     "text": [
      "6360\n",
      "2031\n"
     ]
    }
   ],
   "source": [
    "complete_1 = []\n",
    "no_len_matchs = []\n",
    "for fnames,output in df[['fname_list','output']].values:\n",
    "    try:\n",
    "        outputs = json.loads(output.replace(\"json\",\"\").replace(\"```\",\"\"))\n",
    "        if len(outputs) == len(fnames):\n",
    "            for i1,i2 in zip(outputs,fnames):\n",
    "                complete_1.append({'fname':i2,'output':i1['판단']})\n",
    "        else:\n",
    "            no_len_matchs.append({'fname_list':fnames,'output':output})\n",
    "\n",
    "    except:\n",
    "        no_len_matchs.append({'fname_list':fnames,'output':output})\n",
    "print(len(complete_1))\n",
    "print(len(no_len_matchs))"
   ]
  },
  {
   "cell_type": "code",
   "execution_count": 276,
   "id": "879f1583",
   "metadata": {},
   "outputs": [
    {
     "name": "stdout",
     "output_type": "stream",
     "text": [
      "complete_2: 6079\n",
      "bad: 4\n",
      "c1: 4\n",
      "c2: 0\n"
     ]
    }
   ],
   "source": [
    "\n",
    "\n",
    "def output_cut(output,keyword):\n",
    "    outputs = [cut(i.split(keyword)[1]) for i in output.split('\\n') if i.find(keyword) != -1]\n",
    "    if len(outputs) == 1:\n",
    "        outputs = [cut(i.split(keyword)[1]) for i in output.split(',') if i.find(keyword) != -1]\n",
    "    return outputs\n",
    "\n",
    "complete_2 = []\n",
    "bad = []\n",
    "c1 = 0\n",
    "c2 = 0\n",
    "keywords = ['\"판단\":','\"판단 결과\":','\"대화_요약_일치도\":','\"결과\":','\"일치_여부\":',\n",
    "'\"judgment\":','\"결론\":','\"대화_요약_일치여부\":','\"평가\":','\"result\":','\"대화_요약_판단\":',\n",
    "'\"판단결과\":','\"평가\":','\"요약\":','\"대화_요약_상태\":','\"일치 여부\":','\"대화_요약_일치_여부\":',\n",
    "'\"판단_결과\":','\"대화_요약_일치성\":','\"일치\":','\"요약_평가\":','\"평가 결과\":','\"요약 평가\":',\n",
    "'\"대화_요약_평가\":','\"판단 결과\":','\"판단_이유\":','\"요약_판단\":','\"판단 이유\":','\"대화_요약_관계\":',\n",
    "'\"summary_judgment\":','\"판단 결과\":','\"대화_요약_판정\":','\"대화_요약_일치 여부\":','\"결정\":',\n",
    "'\"대화_요약_결과\":','\"일치여부\":','\"요약_정확성\":','\"대화 요약 평가\":']\n",
    "\n",
    "for no_len_match in no_len_matchs:\n",
    "    output = no_len_match['output']\n",
    "    fnames = no_len_match['fname_list']\n",
    "    if isinstance(output,str):\n",
    "        outputs = []\n",
    "        for keyword in keywords:\n",
    "            outputs = output_cut(output,keyword)\n",
    "            if len(outputs) > 0:\n",
    "                break\n",
    "        if len(fnames) == len(outputs):\n",
    "            for i1,i2 in zip(outputs,fnames):\n",
    "                complete_2.append({'fname':i2,'output':i1})\n",
    "        else:\n",
    "            c1+=1\n",
    "            bad.append(no_len_match)\n",
    "    else:\n",
    "        c2+=1\n",
    "        bad.append(no_len_match)\n",
    "\n",
    "print('complete_2:',len(complete_2))\n",
    "print('bad:',len(bad))\n",
    "print('c1:',c1)\n",
    "print('c2:',c2)\n"
   ]
  },
  {
   "cell_type": "code",
   "execution_count": 279,
   "id": "e7b2c9fe",
   "metadata": {},
   "outputs": [
    {
     "name": "stdout",
     "output_type": "stream",
     "text": [
      "(12439, 2)\n",
      "(12347, 2)\n"
     ]
    }
   ],
   "source": [
    "dfs = pd.DataFrame(complete_1+complete_2)\n",
    "print(dfs.shape)\n",
    "\n",
    "dfs = dfs[dfs['output'].isin(['일치','불일치','부분적 일치'])]\n",
    "print(dfs.shape)"
   ]
  },
  {
   "cell_type": "code",
   "execution_count": null,
   "id": "a2d42bb3",
   "metadata": {},
   "outputs": [
    {
     "data": {
      "text/html": [
       "<div>\n",
       "<style scoped>\n",
       "    .dataframe tbody tr th:only-of-type {\n",
       "        vertical-align: middle;\n",
       "    }\n",
       "\n",
       "    .dataframe tbody tr th {\n",
       "        vertical-align: top;\n",
       "    }\n",
       "\n",
       "    .dataframe thead th {\n",
       "        text-align: right;\n",
       "    }\n",
       "</style>\n",
       "<table border=\"1\" class=\"dataframe\">\n",
       "  <thead>\n",
       "    <tr style=\"text-align: right;\">\n",
       "      <th></th>\n",
       "      <th>output</th>\n",
       "      <th>count</th>\n",
       "      <th>%</th>\n",
       "    </tr>\n",
       "  </thead>\n",
       "  <tbody>\n",
       "    <tr>\n",
       "      <th>0</th>\n",
       "      <td>일치</td>\n",
       "      <td>8130</td>\n",
       "      <td>0.65846</td>\n",
       "    </tr>\n",
       "    <tr>\n",
       "      <th>1</th>\n",
       "      <td>부분적 일치</td>\n",
       "      <td>3783</td>\n",
       "      <td>0.30639</td>\n",
       "    </tr>\n",
       "    <tr>\n",
       "      <th>2</th>\n",
       "      <td>불일치</td>\n",
       "      <td>434</td>\n",
       "      <td>0.03515</td>\n",
       "    </tr>\n",
       "  </tbody>\n",
       "</table>\n",
       "</div>"
      ],
      "text/plain": [
       "   output  count        %\n",
       "0      일치   8130  0.65846\n",
       "1  부분적 일치   3783  0.30639\n",
       "2     불일치    434  0.03515"
      ]
     },
     "execution_count": 288,
     "metadata": {},
     "output_type": "execute_result"
    }
   ],
   "source": [
    "\n",
    "a = dfs.value_counts('output').reset_index(name='count')\n",
    "b = dfs.value_counts('output',normalize=True).reset_index(name='%')\n",
    "pd.merge(a,b,on='output',how='left')"
   ]
  },
  {
   "cell_type": "code",
   "execution_count": 284,
   "id": "95a84f8a",
   "metadata": {},
   "outputs": [
    {
     "data": {
      "text/plain": [
       "output\n",
       "일치        0.65846\n",
       "부분적 일치    0.30639\n",
       "불일치       0.03515\n",
       "Name: proportion, dtype: float64"
      ]
     },
     "execution_count": 284,
     "metadata": {},
     "output_type": "execute_result"
    }
   ],
   "source": [
    "dfs.value_counts('output',normalize=True)"
   ]
  },
  {
   "cell_type": "code",
   "execution_count": 294,
   "id": "7777abff",
   "metadata": {},
   "outputs": [
    {
     "data": {
      "text/html": [
       "<div>\n",
       "<style scoped>\n",
       "    .dataframe tbody tr th:only-of-type {\n",
       "        vertical-align: middle;\n",
       "    }\n",
       "\n",
       "    .dataframe tbody tr th {\n",
       "        vertical-align: top;\n",
       "    }\n",
       "\n",
       "    .dataframe thead th {\n",
       "        text-align: right;\n",
       "    }\n",
       "</style>\n",
       "<table border=\"1\" class=\"dataframe\">\n",
       "  <thead>\n",
       "    <tr style=\"text-align: right;\">\n",
       "      <th></th>\n",
       "      <th>fname</th>\n",
       "      <th>output</th>\n",
       "    </tr>\n",
       "  </thead>\n",
       "  <tbody>\n",
       "  </tbody>\n",
       "</table>\n",
       "</div>"
      ],
      "text/plain": [
       "Empty DataFrame\n",
       "Columns: [fname, output]\n",
       "Index: []"
      ]
     },
     "execution_count": 294,
     "metadata": {},
     "output_type": "execute_result"
    }
   ],
   "source": [
    "dfs[dfs['fname'].isin(['일치'])]"
   ]
  },
  {
   "cell_type": "code",
   "execution_count": 297,
   "id": "4a0cd060",
   "metadata": {},
   "outputs": [
    {
     "data": {
      "text/plain": [
       "'../../create_data_v5_A/dev.csv'"
      ]
     },
     "execution_count": 297,
     "metadata": {},
     "output_type": "execute_result"
    }
   ],
   "source": [
    "import os\n",
    "import shutil\n",
    "\n",
    "\n",
    "\n",
    "os.makedirs('../../create_data_v5_A/',exist_ok=True)\n",
    "a = org[org['fname'].isin(dfs[dfs['fname'].isin(['일치'])])]\n",
    "org[org['fname'].isin(dfs[dfs['output'].isin(['일치'])]['fname'])].to_csv('../../create_data_v5_A/train.csv',index=False)\n",
    "shutil.copyfile('../../data/test.csv','../../create_data_v5_A/test.csv')\n",
    "shutil.copyfile('../../data/dev.csv','../../create_data_v5_A/dev.csv')"
   ]
  },
  {
   "cell_type": "code",
   "execution_count": 298,
   "id": "d5abbf16",
   "metadata": {},
   "outputs": [
    {
     "data": {
      "text/plain": [
       "'../../create_data_v5_B/dev.csv'"
      ]
     },
     "execution_count": 298,
     "metadata": {},
     "output_type": "execute_result"
    }
   ],
   "source": [
    "import os\n",
    "import shutil\n",
    "os.makedirs('../../create_data_v5_B/',exist_ok=True)\n",
    "org[org['fname'].isin(dfs[dfs['output'].isin(['일치','부분적 일치'])]['fname'])].to_csv('../../create_data_v5_B/train.csv',index=False)\n",
    "shutil.copyfile('../../data/test.csv','../../create_data_v5_B/test.csv')\n",
    "shutil.copyfile('../../data/dev.csv','../../create_data_v5_B/dev.csv')"
   ]
  }
 ],
 "metadata": {
  "kernelspec": {
   "display_name": "base",
   "language": "python",
   "name": "python3"
  },
  "language_info": {
   "codemirror_mode": {
    "name": "ipython",
    "version": 3
   },
   "file_extension": ".py",
   "mimetype": "text/x-python",
   "name": "python",
   "nbconvert_exporter": "python",
   "pygments_lexer": "ipython3",
   "version": "3.10.13"
  }
 },
 "nbformat": 4,
 "nbformat_minor": 5
}
