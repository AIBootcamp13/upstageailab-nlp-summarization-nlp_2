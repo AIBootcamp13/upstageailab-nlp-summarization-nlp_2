{
 "cells": [
  {
   "cell_type": "code",
   "execution_count": 1,
   "id": "36de8b5c",
   "metadata": {},
   "outputs": [],
   "source": [
    "import pandas as pd\n",
    "from tqdm import tqdm"
   ]
  },
  {
   "cell_type": "code",
   "execution_count": 2,
   "id": "a1b7f4b5",
   "metadata": {},
   "outputs": [],
   "source": [
    "path = 'data_filter_1.csv'"
   ]
  },
  {
   "cell_type": "code",
   "execution_count": 3,
   "id": "0ac2365a",
   "metadata": {},
   "outputs": [],
   "source": [
    "from openai import OpenAI # openai==1.52.2\n",
    "\n",
    "client = OpenAI(\n",
    "    api_key=\"up_EKKzV9chKEmZbAI8OpmWXpww0JdKq\",\n",
    "    base_url=\"https://api.upstage.ai/v1\"\n",
    ")\n",
    "def openai_stream(content):\n",
    "    stream = client.chat.completions.create(\n",
    "        model=\"solar-pro2\",\n",
    "        messages=[\n",
    "            {\n",
    "                \"role\": \"system\",\n",
    "                \"content\": content\n",
    "            }\n",
    "        ],\n",
    "        stream=True,\n",
    "    )\n",
    "    full_response = \"\"\n",
    "\n",
    "    for chunk in stream:\n",
    "        delta = chunk.choices[0].delta\n",
    "        if delta.content is not None:\n",
    "            full_response += delta.content  # 누적 저장\n",
    "\n",
    "    return full_response\n",
    "\n"
   ]
  },
  {
   "cell_type": "code",
   "execution_count": 4,
   "id": "058851bb",
   "metadata": {},
   "outputs": [
    {
     "name": "stderr",
     "output_type": "stream",
     "text": [
      "  0%|          | 0/847 [00:00<?, ?it/s]"
     ]
    },
    {
     "name": "stderr",
     "output_type": "stream",
     "text": [
      "100%|██████████| 847/847 [2:41:13<00:00, 11.42s/it]  \n"
     ]
    }
   ],
   "source": [
    "\n",
    "data = pd.read_csv(path)\n",
    "output = []\n",
    "count = 1\n",
    "\n",
    "pbar = tqdm(total=data['output'].isnull().sum())\n",
    "for content ,valid_output in data[['prompt','output']].values:\n",
    "    if pd.isna(valid_output):\n",
    "        try:\n",
    "            pbar.update(1)\n",
    "            count+=1\n",
    "            result = openai_stream(content)\n",
    "            output.append(result)\n",
    "        except Exception as e:\n",
    "            print(e)\n",
    "            output.append(None)\n",
    "    else:\n",
    "        output.append(valid_output)\n",
    "    if count%200==0:\n",
    "        data['output'] = output+([None] * (data.shape[0]-len(output)))\n",
    "        data.to_csv(path, index=False)\n",
    "pbar.close()"
   ]
  },
  {
   "cell_type": "code",
   "execution_count": 5,
   "id": "ca98c0af",
   "metadata": {},
   "outputs": [],
   "source": [
    "data['output'] = output + ([None] * (data.shape[0]-len(output)))\n",
    "data.to_csv(path, index=False)"
   ]
  }
 ],
 "metadata": {
  "kernelspec": {
   "display_name": "base",
   "language": "python",
   "name": "python3"
  },
  "language_info": {
   "codemirror_mode": {
    "name": "ipython",
    "version": 3
   },
   "file_extension": ".py",
   "mimetype": "text/x-python",
   "name": "python",
   "nbconvert_exporter": "python",
   "pygments_lexer": "ipython3",
   "version": "3.10.13"
  }
 },
 "nbformat": 4,
 "nbformat_minor": 5
}
