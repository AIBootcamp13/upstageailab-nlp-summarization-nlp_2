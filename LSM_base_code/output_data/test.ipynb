{
 "cells": [
  {
   "cell_type": "code",
   "execution_count": 1,
   "id": "93316a94",
   "metadata": {},
   "outputs": [],
   "source": [
    "import pandas as pd\n",
    "from tqdm import tqdm\n",
    "import numpy as np"
   ]
  },
  {
   "cell_type": "code",
   "execution_count": 3,
   "id": "fb2c3d57",
   "metadata": {},
   "outputs": [],
   "source": [
    "df = pd.read_csv(\"../output_data_v2.csv\")"
   ]
  },
  {
   "cell_type": "code",
   "execution_count": 5,
   "id": "5c6f3025",
   "metadata": {},
   "outputs": [
    {
     "name": "stderr",
     "output_type": "stream",
     "text": [
      "/opt/conda/lib/python3.10/site-packages/numpy/core/fromnumeric.py:57: FutureWarning: 'DataFrame.swapaxes' is deprecated and will be removed in a future version. Please use 'DataFrame.transpose' instead.\n",
      "  return bound(*args, **kwds)\n"
     ]
    }
   ],
   "source": [
    "for i,v in enumerate(np.array_split(df,4)):\n",
    "    v.to_csv(f'output_data_{i}.csv')"
   ]
  },
  {
   "cell_type": "code",
   "execution_count": null,
   "id": "c14d1c7b",
   "metadata": {},
   "outputs": [],
   "source": [
    "from openai import OpenAI # openai==1.52.2\n",
    "\n",
    "client = OpenAI(\n",
    "    api_key=\"\",\n",
    "    base_url=\"https://api.upstage.ai/v1\"\n",
    ")\n",
    "def openai_stream(content):\n",
    "    stream = client.chat.completions.create(\n",
    "        model=\"solar-pro2\",\n",
    "        messages=[\n",
    "            {\n",
    "                \"role\": \"system\",\n",
    "                \"content\": content\n",
    "            }\n",
    "        ],\n",
    "        stream=True,\n",
    "    )\n",
    "    full_response = \"\"\n",
    "\n",
    "    for chunk in stream:\n",
    "        delta = chunk.choices[0].delta\n",
    "        if delta.content is not None:\n",
    "            full_response += delta.content  # 누적 저장\n",
    "\n",
    "    return full_response\n",
    "\n"
   ]
  },
  {
   "cell_type": "code",
   "execution_count": null,
   "id": "0ef8b896",
   "metadata": {},
   "outputs": [],
   "source": [
    "path = 'output_data_0.csv'\n",
    "data = pd.read_csv(path)"
   ]
  },
  {
   "cell_type": "code",
   "execution_count": 51,
   "id": "be212010",
   "metadata": {},
   "outputs": [],
   "source": [
    "prompt = '''\n",
    "너는 주어진 주제에 대한 가상 대화를 생성하고 요약하는 AI야.\n",
    "\n",
    "# 지시사항\n",
    "1. 아래 주어진 **주제**에 대해 #Person1#과 #Person2#가 대화하는 내용을 생성해 줘.\n",
    "2. 대화가 끝나면, 전체 대화 내용을 90자 이내로 요약해 줘.\n",
    "3. 요약 방식은 사건 중심으로 요약해줘.\n",
    "4. 화자 태그를 유지한 상태로 요약해줘.\n",
    "5. **→, ·, : 등의 기호나 요약체 표현은 사용하지 마세요.**  \n",
    "6. 아래 **출력 형식**을 반드시 지켜줘.\n",
    "\n",
    "# 주제\n",
    "의사 상담\n",
    "\n",
    "# 출력 형식\n",
    "{\n",
    "    \"dialogue1\":[\n",
    "        \"#Person1#: (대화 내용)\",\n",
    "        \"#Person2#: (대화 내용)\",\n",
    "        \"#Person1#: (대화 내용)\",\n",
    "        \"#Person2#: (대화 내용)\",\n",
    "        \"#Person1#: (대화 내용)\",\n",
    "        \"#Person2#: (대화 내용)\",\n",
    "        \"#Person1#: (대화 내용)\",\n",
    "        ],\n",
    "    \"summary1\":\"(요약 내용)\",\n",
    "    \n",
    "    \"dialogue2\":[\n",
    "        \"#Person1#: (대화 내용)\",\n",
    "        \"#Person2#: (대화 내용)\",\n",
    "        \"#Person1#: (대화 내용)\",\n",
    "        \"#Person2#: (대화 내용)\",\n",
    "        \"#Person1#: (대화 내용)\",\n",
    "        \"#Person2#: (대화 내용)\",\n",
    "        \"#Person1#: (대화 내용)\",\n",
    "    ],\n",
    "    \"summary2\":\"(요약 내용)\",\n",
    "\n",
    "    \"dialogue3\":[\n",
    "        \"#Person1#: (대화 내용)\",\n",
    "        \"#Person2#: (대화 내용)\",\n",
    "        \"#Person1#: (대화 내용)\",\n",
    "        \"#Person2#: (대화 내용)\",\n",
    "        \"#Person1#: (대화 내용)\",\n",
    "        \"#Person2#: (대화 내용)\",\n",
    "        \"#Person1#: (대화 내용)\",\n",
    "    ],\n",
    "    \"summary3\":\"(요약 내용)\",\n",
    "}   \n",
    "'''"
   ]
  },
  {
   "cell_type": "code",
   "execution_count": 52,
   "id": "746a54cb",
   "metadata": {},
   "outputs": [
    {
     "name": "stdout",
     "output_type": "stream",
     "text": [
      "{\n",
      "    \"dialogue1\":[\n",
      "        \"#Person1#: 열이 나고 기침이 심해요\",\n",
      "        \"#Person2#: 언제부터 증상이 시작되었나요?\",\n",
      "        \"#Person1#: 3일 전부터 점차 심해졌어요\",\n",
      "        \"#Person2#: 목 검사 결과 염증이 있습니다. 해열제를 처방하겠습니다\",\n",
      "        \"#Person1#: 약 복용 후 증상이 나아지지 않으면 다시 방문해야 하나요?\",\n",
      "        \"#Person2#: 3일 이상 지속될 경우 즉시 내원해 주세요\"\n",
      "    ],\n",
      "    \"summary1\":\"#Person1#이 열 기침 증상을 호소하자 #Person2#가 염증 확인 후 해열제 처방하고 증상 지속 시 재방문 권고\",\n",
      "\n",
      "    \"dialogue2\":[\n",
      "        \"#Person1#: 식사 후 복통이 자주 발생해요\",\n",
      "        \"#Person2#: 특정 음식 섭취 후 증상이 나타나나요?\",\n",
      "        \"#Person1#: 기름진 음식을 먹으면 심해집니다\",\n",
      "        \"#Person2#: 위 내시경 검사를 권장합니다. 오늘 바로 예약해 드릴까요?\",\n",
      "        \"#Person1#: 네, 가능한 빨리 검사하고 싶습니다\",\n",
      "        \"#Person2#: 다음 주 화요일 오전 10시로 예약 완료했습니다\"\n",
      "    ],\n",
      "    \"summary2\":\"#Person1#이 식후 복통 호소 시 #Person2#가 기름진 음식과 연관성 확인 후 위 내시경 검사 예약 진행\",\n",
      "\n",
      "    \"dialogue3\":[\n",
      "        \"#Person1#: 머리가 자주 아프고 어지럽습니다\",\n",
      "        \"#Person2#: 수면 시간은 충분하신가요?\",\n",
      "        \"#Person1#: 최근 업무 스트레스로 잠을 설쳤어요\",\n",
      "        \"#Person2#: 스트레스성 두통 가능성이 높습니다. 휴식 후 증상 관찰하시고 지속될 경우 MRI 검사를 진행하겠습니다\",\n",
      "        \"#Person1#: 알겠습니다. 우선 휴식해 보겠습니다\"\n",
      "    ],\n",
      "    \"summary3\":\"#Person1#이 두통 어지러움 호소하자 #Person2#가 스트레스 영향 진단 후 휴식 권하며 증상 지속 시 MRI 검사 제안\"\n",
      "}\n"
     ]
    }
   ],
   "source": [
    "print(openai_stream(prompt))"
   ]
  }
 ],
 "metadata": {
  "kernelspec": {
   "display_name": "base",
   "language": "python",
   "name": "python3"
  },
  "language_info": {
   "codemirror_mode": {
    "name": "ipython",
    "version": 3
   },
   "file_extension": ".py",
   "mimetype": "text/x-python",
   "name": "python",
   "nbconvert_exporter": "python",
   "pygments_lexer": "ipython3",
   "version": "3.10.13"
  }
 },
 "nbformat": 4,
 "nbformat_minor": 5
}
