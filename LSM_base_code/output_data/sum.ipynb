{
 "cells": [
  {
   "cell_type": "code",
   "execution_count": 18,
   "id": "fb3e4b26",
   "metadata": {},
   "outputs": [],
   "source": [
    "import pandas as pd\n",
    "import os\n",
    "import json\n",
    "org = pd.read_csv('../../data/train.csv')\n",
    "\n",
    "sum_list = [pd.read_csv(f'output_data_{i}.csv') for i in range(4)]\n",
    "sum_df = pd.concat(sum_list)\n",
    "sum_df = sum_df[~sum_df['output'].isnull()].reset_index(drop=True)\n",
    "sum_df = sum_df.sample(frac=1).reset_index(drop=True)\n",
    "# sum_df.to_csv('sum_output_data.csv',index=False)"
   ]
  },
  {
   "cell_type": "code",
   "execution_count": null,
   "id": "985f9e6f",
   "metadata": {},
   "outputs": [],
   "source": [
    "create_v2 = []\n",
    "bad_count = 0\n",
    "\n",
    "for topic_name,output in sum_df[['topic_name','output']].values:\n",
    "    try:\n",
    "        output = json.loads(output)\n",
    "        for index in range(1,4):\n",
    "            create_v2.append({'dialogue':'\\n'.join(output[f'dialogue{index}']),'summary':output[f'summary{index}'],'topic':topic_name})\n",
    "    except:\n",
    "        bad_count+=1\n",
    "org_topic_count = org['topic'].value_counts().reset_index(name='count')\n",
    "\n",
    "create_v2_df = pd.DataFrame(create_v2).sample(frac=1).reset_index(drop=True)\n",
    "create_v2_df = create_v2_df[create_v2_df['topic'].isin(org_topic_count['topic'])]\n",
    "df = pd.concat([org,create_v2_df]).sample(frac=1).reset_index(drop=True)\n"
   ]
  },
  {
   "cell_type": "code",
   "execution_count": 16,
   "id": "54205190",
   "metadata": {},
   "outputs": [
    {
     "data": {
      "text/plain": [
       "'../../create_data_v4/dev.csv'"
      ]
     },
     "execution_count": 16,
     "metadata": {},
     "output_type": "execute_result"
    }
   ],
   "source": [
    "import os\n",
    "import shutil\n",
    "os.makedirs('../../create_data_v4/',exist_ok=True)\n",
    "df.to_csv('../../create_data_v4/train.csv',index=False)\n",
    "shutil.copyfile('../../data/test.csv','../../create_data_v4/test.csv')\n",
    "shutil.copyfile('../../data/dev.csv','../../create_data_v4/dev.csv')\n"
   ]
  },
  {
   "cell_type": "code",
   "execution_count": 17,
   "id": "2b5b247c",
   "metadata": {},
   "outputs": [
    {
     "name": "stdout",
     "output_type": "stream",
     "text": [
      "(49812, 3)\n"
     ]
    }
   ],
   "source": [
    "print(create_v2_df.shape)\n"
   ]
  }
 ],
 "metadata": {
  "kernelspec": {
   "display_name": "base",
   "language": "python",
   "name": "python3"
  },
  "language_info": {
   "codemirror_mode": {
    "name": "ipython",
    "version": 3
   },
   "file_extension": ".py",
   "mimetype": "text/x-python",
   "name": "python",
   "nbconvert_exporter": "python",
   "pygments_lexer": "ipython3",
   "version": "3.10.13"
  }
 },
 "nbformat": 4,
 "nbformat_minor": 5
}
